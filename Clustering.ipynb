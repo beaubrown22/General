{
  "cells": [
    {
      "cell_type": "code",
      "execution_count": 1,
      "metadata": {
        "id": "3Y9n32VisC-8"
      },
      "outputs": [
        {
          "name": "stderr",
          "output_type": "stream",
          "text": [
            "C:\\Users\\BeauB\\AppData\\Local\\Temp\\ipykernel_15764\\2413191728.py:1: DeprecationWarning: \n",
            "Pyarrow will become a required dependency of pandas in the next major release of pandas (pandas 3.0),\n",
            "(to allow more performant data types, such as the Arrow string type, and better interoperability with other libraries)\n",
            "but was not found to be installed on your system.\n",
            "If this would cause problems for you,\n",
            "please provide us feedback at https://github.com/pandas-dev/pandas/issues/54466\n",
            "        \n",
            "  import pandas as pd\n"
          ]
        }
      ],
      "source": [
        "import pandas as pd\n",
        "import numpy as np\n",
        "import matplotlib.pylab as plt\n",
        "#from sklearn.cross_validation import train_test_split\n",
        "from sklearn import preprocessing\n",
        "from sklearn.cluster import KMeans"
      ]
    },
    {
      "cell_type": "code",
      "execution_count": 2,
      "metadata": {
        "colab": {
          "base_uri": "https://localhost:8080/",
          "height": 300
        },
        "id": "Bo2dQWq4sC--",
        "outputId": "4f5bed3c-5d62-4a67-d291-e17595e37c51"
      },
      "outputs": [
        {
          "data": {
            "text/html": [
              "<div>\n",
              "<style scoped>\n",
              "    .dataframe tbody tr th:only-of-type {\n",
              "        vertical-align: middle;\n",
              "    }\n",
              "\n",
              "    .dataframe tbody tr th {\n",
              "        vertical-align: top;\n",
              "    }\n",
              "\n",
              "    .dataframe thead th {\n",
              "        text-align: right;\n",
              "    }\n",
              "</style>\n",
              "<table border=\"1\" class=\"dataframe\">\n",
              "  <thead>\n",
              "    <tr style=\"text-align: right;\">\n",
              "      <th></th>\n",
              "      <th>Sepal_Length</th>\n",
              "      <th>Sepal_Width</th>\n",
              "      <th>Petal_Length</th>\n",
              "      <th>Petal_Width</th>\n",
              "    </tr>\n",
              "  </thead>\n",
              "  <tbody>\n",
              "    <tr>\n",
              "      <th>count</th>\n",
              "      <td>150.000000</td>\n",
              "      <td>150.000000</td>\n",
              "      <td>150.000000</td>\n",
              "      <td>150.000000</td>\n",
              "    </tr>\n",
              "    <tr>\n",
              "      <th>mean</th>\n",
              "      <td>5.843333</td>\n",
              "      <td>3.057333</td>\n",
              "      <td>3.758000</td>\n",
              "      <td>1.199333</td>\n",
              "    </tr>\n",
              "    <tr>\n",
              "      <th>std</th>\n",
              "      <td>0.828066</td>\n",
              "      <td>0.435866</td>\n",
              "      <td>1.765298</td>\n",
              "      <td>0.762238</td>\n",
              "    </tr>\n",
              "    <tr>\n",
              "      <th>min</th>\n",
              "      <td>4.300000</td>\n",
              "      <td>2.000000</td>\n",
              "      <td>1.000000</td>\n",
              "      <td>0.100000</td>\n",
              "    </tr>\n",
              "    <tr>\n",
              "      <th>25%</th>\n",
              "      <td>5.100000</td>\n",
              "      <td>2.800000</td>\n",
              "      <td>1.600000</td>\n",
              "      <td>0.300000</td>\n",
              "    </tr>\n",
              "    <tr>\n",
              "      <th>50%</th>\n",
              "      <td>5.800000</td>\n",
              "      <td>3.000000</td>\n",
              "      <td>4.350000</td>\n",
              "      <td>1.300000</td>\n",
              "    </tr>\n",
              "    <tr>\n",
              "      <th>75%</th>\n",
              "      <td>6.400000</td>\n",
              "      <td>3.300000</td>\n",
              "      <td>5.100000</td>\n",
              "      <td>1.800000</td>\n",
              "    </tr>\n",
              "    <tr>\n",
              "      <th>max</th>\n",
              "      <td>7.900000</td>\n",
              "      <td>4.400000</td>\n",
              "      <td>6.900000</td>\n",
              "      <td>2.500000</td>\n",
              "    </tr>\n",
              "  </tbody>\n",
              "</table>\n",
              "</div>"
            ],
            "text/plain": [
              "       Sepal_Length  Sepal_Width  Petal_Length  Petal_Width\n",
              "count    150.000000   150.000000    150.000000   150.000000\n",
              "mean       5.843333     3.057333      3.758000     1.199333\n",
              "std        0.828066     0.435866      1.765298     0.762238\n",
              "min        4.300000     2.000000      1.000000     0.100000\n",
              "25%        5.100000     2.800000      1.600000     0.300000\n",
              "50%        5.800000     3.000000      4.350000     1.300000\n",
              "75%        6.400000     3.300000      5.100000     1.800000\n",
              "max        7.900000     4.400000      6.900000     2.500000"
            ]
          },
          "execution_count": 2,
          "metadata": {},
          "output_type": "execute_result"
        }
      ],
      "source": [
        "from sklearn import datasets\n",
        "dataset = datasets.load_iris()\n",
        "x = pd.DataFrame(dataset.data)\n",
        "x.columns = ['Sepal_Length','Sepal_Width','Petal_Length','Petal_Width']\n",
        "y = pd.DataFrame(dataset.target)\n",
        "y.columns = ['Targets']\n",
        "x.describe()"
      ]
    },
    {
      "cell_type": "code",
      "execution_count": 3,
      "metadata": {
        "id": "41eC4v2EsC-_"
      },
      "outputs": [],
      "source": [
        "# normalize each variable to have mean=0 and sd=1\n",
        "clusterdata=x.copy()\n",
        "for i in range(clusterdata.shape[1]):\n",
        "    clusterdata.iloc[:,i] = preprocessing.scale(clusterdata.iloc[:,i])"
      ]
    },
    {
      "cell_type": "code",
      "execution_count": null,
      "metadata": {
        "colab": {
          "base_uri": "https://localhost:8080/",
          "height": 206
        },
        "id": "X3k_gfqesC_A",
        "outputId": "7d53b8c3-1f43-45fd-e8c2-45d327dcdddc"
      },
      "outputs": [],
      "source": [
        "clusterdata.head()"
      ]
    },
    {
      "cell_type": "code",
      "execution_count": null,
      "metadata": {
        "colab": {
          "base_uri": "https://localhost:8080/",
          "height": 206
        },
        "id": "gDemaxsMsC_A",
        "outputId": "c213b5cc-8638-4ae0-ba4f-a16e885da9c3"
      },
      "outputs": [],
      "source": [
        "x.head()"
      ]
    },
    {
      "cell_type": "code",
      "execution_count": null,
      "metadata": {
        "colab": {
          "base_uri": "https://localhost:8080/"
        },
        "id": "UCjyYQWvsC_A",
        "outputId": "a42cc8d4-d5d9-4807-876d-66d62bef6c18"
      },
      "outputs": [],
      "source": [
        "# k-means cluster analysis for 1-10 clusters\n",
        "from scipy.spatial.distance import cdist\n",
        "clusters=range(1,10)\n",
        "meandist=[]\n",
        "\n",
        "#Perform k-means analysis, as well as check the average within cluster distances vs. different k values\n",
        "for k in clusters:\n",
        "    model=KMeans(n_clusters=k)\n",
        "    model.fit(clusterdata)\n",
        "    clusassign=model.predict(clusterdata)\n",
        "    meandist.append(sum(np.min(cdist(clusterdata, model.cluster_centers_, 'euclidean'), axis=1))\n",
        "    / clusterdata.shape[0])"
      ]
    },
    {
      "cell_type": "code",
      "execution_count": null,
      "metadata": {
        "colab": {
          "base_uri": "https://localhost:8080/",
          "height": 490
        },
        "id": "Hgwh008ZsC_A",
        "outputId": "7ae4e583-078a-4017-8f52-e1e8f824fd16"
      },
      "outputs": [],
      "source": [
        "%matplotlib inline\n",
        "plt.plot(clusters, meandist)\n",
        "plt.xlabel('Number of clusters')\n",
        "plt.ylabel('Average distance')\n",
        "plt.title('Selecting k with the Elbow Method')"
      ]
    },
    {
      "cell_type": "code",
      "execution_count": null,
      "metadata": {
        "colab": {
          "base_uri": "https://localhost:8080/",
          "height": 130
        },
        "id": "LROPqSiqsC_B",
        "outputId": "da5d5d0e-6e63-454e-be5c-4f1417738c8b"
      },
      "outputs": [],
      "source": [
        "# K Means Cluster choosing 3 as the number of clusters\n",
        "model = KMeans(n_clusters=3)\n",
        "model.fit(clusterdata)"
      ]
    },
    {
      "cell_type": "code",
      "execution_count": null,
      "metadata": {
        "colab": {
          "base_uri": "https://localhost:8080/"
        },
        "id": "R1-jjCPYsC_C",
        "outputId": "1ee16774-ae7d-459d-eb5d-7bbc531d0424"
      },
      "outputs": [],
      "source": [
        "model.labels_"
      ]
    },
    {
      "cell_type": "code",
      "execution_count": null,
      "metadata": {
        "colab": {
          "base_uri": "https://localhost:8080/",
          "height": 640
        },
        "id": "0M6c97xbsC_D",
        "outputId": "9c4ded26-ffdc-4857-fc2c-d9e31f1f4355"
      },
      "outputs": [],
      "source": [
        "# View the results\n",
        "# Set the size of the plot\n",
        "plt.figure(figsize=(14,7))\n",
        "\n",
        "# Create a colormap\n",
        "colormap = np.array(['red', 'lime', 'black'])\n",
        "\n",
        "# Plot the Original Classifications\n",
        "plt.subplot(1, 2, 1)\n",
        "plt.scatter(x.Petal_Length, x.Petal_Width, c=colormap[y.Targets], s=40)\n",
        "plt.title('Ground Truth Class')\n",
        "\n",
        "# Plot the Models Classifications\n",
        "plt.subplot(1, 2, 2)\n",
        "plt.scatter(x.Petal_Length, x.Petal_Width, c=colormap[model.labels_], s=40)\n",
        "plt.title('K Means Clustering Result')"
      ]
    },
    {
      "cell_type": "code",
      "execution_count": null,
      "metadata": {
        "id": "MgnhA91tsC_E"
      },
      "outputs": [],
      "source": [
        "# The meanings of \"0\", \"1\", and \"2\" in the ground truth label are different from those generated by model. We need to make them consistent.\n",
        "predY = np.choose(model.labels_, [2, 0, 1]).astype(np.int64)"
      ]
    },
    {
      "cell_type": "code",
      "execution_count": null,
      "metadata": {
        "colab": {
          "base_uri": "https://localhost:8080/",
          "height": 640
        },
        "id": "MJ89akqdsC_E",
        "outputId": "4c747a88-8be5-4b4c-c020-739cbbf4b099"
      },
      "outputs": [],
      "source": [
        "# View the results\n",
        "# Set the size of the plot\n",
        "plt.figure(figsize=(14,7))\n",
        "\n",
        "# Create a colormap\n",
        "colormap = np.array(['red', 'lime', 'black'])\n",
        "\n",
        "# Plot Orginal\n",
        "plt.subplot(1, 2, 1)\n",
        "plt.scatter(x.Petal_Length, x.Petal_Width, c=colormap[y.Targets], s=40)\n",
        "plt.title('Ground Truth Class')\n",
        "\n",
        "# Plot Predicted with corrected values\n",
        "plt.subplot(1, 2, 2)\n",
        "plt.scatter(x.Petal_Length, x.Petal_Width, c=colormap[predY], s=40)\n",
        "plt.title('K Mean Clustering Result')"
      ]
    },
    {
      "cell_type": "code",
      "execution_count": null,
      "metadata": {
        "colab": {
          "base_uri": "https://localhost:8080/"
        },
        "id": "HKhkW_jesC_F",
        "outputId": "6b6b269c-00eb-465e-b58a-fecdd3c4f292"
      },
      "outputs": [],
      "source": [
        "# Performance Measures\n",
        "import sklearn.metrics\n",
        "sklearn.metrics.confusion_matrix(y, predY)"
      ]
    },
    {
      "cell_type": "code",
      "execution_count": null,
      "metadata": {
        "colab": {
          "base_uri": "https://localhost:8080/"
        },
        "id": "8dN4oOfrsC_G",
        "outputId": "d0aa1be0-c751-4a91-8207-e92a24b0e9c9",
        "scrolled": true
      },
      "outputs": [],
      "source": [
        "sklearn.metrics.accuracy_score(y, predY)"
      ]
    },
    {
      "cell_type": "code",
      "execution_count": null,
      "metadata": {
        "id": "vgY7gjOesC_G"
      },
      "outputs": [],
      "source": [
        "#Hierarchical Clustering\n",
        "#apply the complete linkage agglomeration to our clusters using\n",
        "#the linkage function from SciPy's cluster.hierarchy submodule\n",
        "from scipy.cluster.hierarchy import linkage\n",
        "row_clusters = linkage(x.values,method='complete', metric='euclidean')"
      ]
    },
    {
      "cell_type": "code",
      "execution_count": null,
      "metadata": {
        "id": "Azluk6H7sC_G"
      },
      "outputs": [],
      "source": [
        "from scipy.cluster.hierarchy import dendrogram"
      ]
    },
    {
      "cell_type": "code",
      "execution_count": null,
      "metadata": {
        "colab": {
          "base_uri": "https://localhost:8080/",
          "height": 429
        },
        "id": "JBF1qslJsC_H",
        "outputId": "1c048a00-c902-4bb2-fbd4-955dce7a1d85"
      },
      "outputs": [],
      "source": [
        "row_dendr = dendrogram(row_clusters)"
      ]
    },
    {
      "cell_type": "code",
      "execution_count": null,
      "metadata": {
        "id": "8HKCB_gGsC_H"
      },
      "outputs": [],
      "source": [
        "#Applying agglomerative clustering via scikit-learn\n",
        "from sklearn.cluster import AgglomerativeClustering"
      ]
    },
    {
      "cell_type": "code",
      "execution_count": null,
      "metadata": {
        "id": "UbFMuz11sC_H"
      },
      "outputs": [],
      "source": [
        "ac = AgglomerativeClustering(n_clusters=2,affinity='euclidean',linkage='complete')"
      ]
    },
    {
      "cell_type": "code",
      "execution_count": null,
      "metadata": {
        "colab": {
          "base_uri": "https://localhost:8080/"
        },
        "id": "nuPg7uVssC_H",
        "outputId": "252f6502-8290-4810-a42a-9b365d0117ea"
      },
      "outputs": [],
      "source": [
        "labels = ac.fit_predict(x.values)"
      ]
    },
    {
      "cell_type": "code",
      "execution_count": null,
      "metadata": {
        "colab": {
          "base_uri": "https://localhost:8080/"
        },
        "id": "QNXEHMjHsC_H",
        "outputId": "689abe67-c0cd-4f6b-b012-c1f3a0a97a3e"
      },
      "outputs": [],
      "source": [
        "labels"
      ]
    },
    {
      "cell_type": "code",
      "execution_count": null,
      "metadata": {
        "id": "oe1mxmBGsC_I"
      },
      "outputs": [],
      "source": []
    }
  ],
  "metadata": {
    "colab": {
      "provenance": []
    },
    "kernelspec": {
      "display_name": "Python 3",
      "language": "python",
      "name": "python3"
    },
    "language_info": {
      "codemirror_mode": {
        "name": "ipython",
        "version": 3
      },
      "file_extension": ".py",
      "mimetype": "text/x-python",
      "name": "python",
      "nbconvert_exporter": "python",
      "pygments_lexer": "ipython3",
      "version": "3.12.1"
    }
  },
  "nbformat": 4,
  "nbformat_minor": 0
}
